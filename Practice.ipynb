{
  "nbformat": 4,
  "nbformat_minor": 0,
  "metadata": {
    "colab": {
      "name": "Practice.ipynb",
      "provenance": [],
      "authorship_tag": "ABX9TyNaH68LZEUKhvD3AOvId1dq",
      "include_colab_link": true
    },
    "kernelspec": {
      "name": "python3",
      "display_name": "Python 3"
    }
  },
  "cells": [
    {
      "cell_type": "markdown",
      "metadata": {
        "id": "view-in-github",
        "colab_type": "text"
      },
      "source": [
        "<a href=\"https://colab.research.google.com/github/rLuciferMorningStar/About-Me-App/blob/master/Practice.ipynb\" target=\"_parent\"><img src=\"https://colab.research.google.com/assets/colab-badge.svg\" alt=\"Open In Colab\"/></a>"
      ]
    },
    {
      "cell_type": "code",
      "metadata": {
        "colab": {
          "base_uri": "https://localhost:8080/"
        },
        "id": "_mNlQ6NyoDNc",
        "outputId": "bbd6e8bf-f6b0-4649-b5d5-62077a65b474"
      },
      "source": [
        "## LISTS\n",
        "\n",
        "computerParts = ['keyboard', 'mouse', 'monitor', 'speakers', 'cpu']\n",
        "\n",
        "print('Last element: \\t\\t\\t{0}'.format(computerParts[-1]))                    # Print last element\n",
        "print('Print all except last: \\t\\t{0}'.format(computerParts[:-1]))          # Print all except last element\n",
        "print('Print elements in reverse: \\t{0}'.format(computerParts[::-1]))     # Print elements in reverse\n",
        "print('Print 1st 3 elements: \\t\\t{0}'.format(computerParts[:3]))            # Print 1st 3 elements\n",
        "print('Print last 2 elements: \\t\\t{0}'.format(computerParts[3:]))           # Print Last 2 elements\n",
        "for part in computerParts:                                              # Print all elements one by one\n",
        "    print(part)\n"
      ],
      "execution_count": 20,
      "outputs": [
        {
          "output_type": "stream",
          "text": [
            "Last element: \t\t\tcpu\n",
            "Print all except last: \t\t['keyboard', 'mouse', 'monitor', 'speakers']\n",
            "Print elements in reverse: \t['cpu', 'speakers', 'monitor', 'mouse', 'keyboard']\n",
            "Print 1st 3 elements: \t\t['keyboard', 'mouse', 'monitor']\n",
            "Print last 2 elements: \t\t['speakers', 'cpu']\n",
            "keyboard\n",
            "mouse\n",
            "monitor\n",
            "speakers\n",
            "cpu\n"
          ],
          "name": "stdout"
        }
      ]
    },
    {
      "cell_type": "code",
      "metadata": {
        "colab": {
          "base_uri": "https://localhost:8080/"
        },
        "id": "781hYFhgrbJ2",
        "outputId": "f1e06735-c666-4568-9158-14b2a3091e6f"
      },
      "source": [
        "## IMMUTABLE LIST\n",
        "\n",
        "result          = True\n",
        "anotherResult   = result\n",
        "\n",
        "print(id(result))\n",
        "print(id(anotherResult))\n",
        "\n",
        "result          = False\n",
        "\n",
        "print(id(result))"
      ],
      "execution_count": 24,
      "outputs": [
        {
          "output_type": "stream",
          "text": [
            "10302848\n",
            "10302848\n",
            "10300256\n"
          ],
          "name": "stdout"
        }
      ]
    },
    {
      "cell_type": "code",
      "metadata": {
        "id": "qTIvA3zJuZac"
      },
      "source": [
        ""
      ],
      "execution_count": null,
      "outputs": []
    }
  ]
}